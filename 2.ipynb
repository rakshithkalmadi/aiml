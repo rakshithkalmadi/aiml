{
 "cells": [
  {
   "cell_type": "code",
   "execution_count": 16,
   "id": "1722f2fe",
   "metadata": {},
   "outputs": [
    {
     "name": "stdout",
     "output_type": "stream",
     "text": [
      "Input [[0.66666667 1.        ]\n",
      " [0.33333333 0.55555556]\n",
      " [1.         0.66666667]]\n",
      "[[0.92]\n",
      " [0.86]\n",
      " [0.89]]\n",
      "[[0.89501541]\n",
      " [0.87915716]\n",
      " [0.8952964 ]]\n"
     ]
    }
   ],
   "source": [
    "import numpy as np\n",
    "\n",
    "X=np.array(([2,9],[1,5],[3,6]),dtype=float)\n",
    "y=np.array(([92],[86],[89]),dtype=float)\n",
    "X=X/np.amax(X,axis=0)\n",
    "y=y/100\n",
    "\n",
    "poc=5000\n",
    "iln=2\n",
    "hln=3\n",
    "oln=1\n",
    "lr=0.1\n",
    "\n",
    "wh=np.random.uniform(size=(iln,hln))\n",
    "bh=np.random.uniform(size=(1,hln))\n",
    "wo=np.random.uniform(size=(hln,oln))\n",
    "bo=np.random.uniform(size=(1,oln))\n",
    "def sigmoid(x):\n",
    "    return 1/(1+np.exp(-x))\n",
    "def dersig(x):\n",
    "    return x*(1-x)\n",
    "\n",
    "for i in range(poc):\n",
    "    hin1=np.dot(X,wh)\n",
    "    hin=hin1+bh\n",
    "    h=sigmoid(hin)\n",
    "    oin1=np.dot(h,wo)\n",
    "    oin=oin1+bo\n",
    "    o=sigmoid(oin)\n",
    "    \n",
    "    EO=y-o\n",
    "    outgrad=dersig(o)\n",
    "    dout=EO*outgrad\n",
    "    \n",
    "    EH=dout.dot(wo.T)\n",
    "    hidgrad=dersig(h)\n",
    "    dhid=EH*hidgrad\n",
    "    \n",
    "    wo+=h.T.dot(dout)*lr\n",
    "    wh+=X.T.dot(dhid)*lr\n",
    "    \n",
    "print(\"Input\",X)\n",
    "print(y)\n",
    "print(o)\n",
    "    "
   ]
  },
  {
   "cell_type": "code",
   "execution_count": null,
   "id": "7708d2ac",
   "metadata": {},
   "outputs": [],
   "source": []
  }
 ],
 "metadata": {
  "kernelspec": {
   "display_name": "Python 3 (ipykernel)",
   "language": "python",
   "name": "python3"
  },
  "language_info": {
   "codemirror_mode": {
    "name": "ipython",
    "version": 3
   },
   "file_extension": ".py",
   "mimetype": "text/x-python",
   "name": "python",
   "nbconvert_exporter": "python",
   "pygments_lexer": "ipython3",
   "version": "3.9.13"
  }
 },
 "nbformat": 4,
 "nbformat_minor": 5
}
