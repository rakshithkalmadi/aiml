{
 "cells": [
  {
   "cell_type": "code",
   "execution_count": null,
   "id": "e9a23d7f",
   "metadata": {},
   "outputs": [
    {
     "ename": "",
     "evalue": "",
     "output_type": "error",
     "traceback": [
      "\u001b[1;31mRunning cells with 'c:\\Users\\raksh\\AppData\\Local\\Microsoft\\WindowsApps\\python3.10.exe' requires ipykernel package.\n",
      "\u001b[1;31mRun the following command to install 'ipykernel' into the Python environment. \n",
      "\u001b[1;31mCommand: 'c:/Users/raksh/AppData/Local/Microsoft/WindowsApps/python3.10.exe -m pip install ipykernel -U --user --force-reinstall'"
     ]
    }
   ],
   "source": [
    "import os\n",
    "cl=lambda : os.system('cls')\n",
    "cl()\n",
    "\n",
    "#Describe your graph here \n",
    "Graph_n = {\n",
    " 'A': [('B', 6), ('F', 3)],\n",
    " 'B': [('C', 3), ('D', 2)],\n",
    " 'C': [('D', 1), ('E', 5)],\n",
    " 'D': [('C', 1), ('E', 8)],\n",
    " 'E': [('I', 5), ('J', 5)],\n",
    " 'F': [('G', 1),('H', 7)] ,\n",
    " 'G': [('I', 3)],\n",
    " 'H': [('I', 2)],\n",
    " 'I': [('E', 5), ('J', 3)],\n",
    " \n",
    "}\n",
    "def get_n(v):\n",
    "    if v in Graph_nodes:\n",
    "        return Graph_nodes[v]\n",
    "    else:\n",
    "        return None\n",
    "def heu(n):\n",
    "    H_dist = {\n",
    "'A': 10,\n",
    "'B': 8,\n",
    "'C': 5,\n",
    "'D': 7,\n",
    "'E': 3,\n",
    "'F': 6,\n",
    "'G': 5,\n",
    "'H': 3,\n",
    "'I': 1,\n",
    "'J': 0 \n",
    "}\n",
    "    return H_dist[n]\n",
    "def algo(st,sp):\n",
    "    o_s=set(st)\n",
    "    c_s=set()\n",
    "    g={}\n",
    "    par={}\n",
    "    g[st]=0\n",
    "    par[st]=st\n",
    "    \n",
    "    while len(o_s)>0:\n",
    "        n=None\n",
    "        for v in o_s:\n",
    "            if n==None or g[v]+heu(v)<g[n]+heu(n):\n",
    "                n=v\n",
    "        if n==sp or Graph_n[n]==None:\n",
    "            pass\n",
    "        else:\n",
    "            for (m,weight) in get_n(n):\n",
    "                if m not in o_s and m not in c_s:\n",
    "                    o_s.add(m)\n",
    "                    par[m]=n\n",
    "                    g[m]=g[n]+weight\n",
    "                else:\n",
    "                    if g[m]>g[n]+weight:\n",
    "                        g[m]=g[n]+weight\n",
    "                        par[m]=n\n",
    "                        \n",
    "                        if m in c_s:\n",
    "                            c_s.remove(m)\n",
    "                            o_s.add(m)\n",
    "        if n==None:\n",
    "            print(\"path not exist\")\n",
    "            return None\n",
    "        if n==sp:\n",
    "            p=[]\n",
    "            while par[n]!=n:\n",
    "                p.append(n)\n",
    "                n=par[n]\n",
    "            p.append(st)\n",
    "            p.reverse()\n",
    "            print('Path found {}'.format(p))\n",
    "            return p\n",
    "        \n",
    "        o_s.remove(n)\n",
    "        c_s.add(n)\n",
    "    print(\"path no ex\")\n",
    "    return None\n",
    "\n",
    "algo('A','J')\n",
    "        \n"
   ]
  },
  {
   "cell_type": "code",
   "execution_count": null,
   "id": "867d385c",
   "metadata": {},
   "outputs": [
    {
     "ename": "",
     "evalue": "",
     "output_type": "error",
     "traceback": [
      "\u001b[1;31mRunning cells with 'c:\\Users\\raksh\\AppData\\Local\\Microsoft\\WindowsApps\\python3.10.exe' requires ipykernel package.\n",
      "\u001b[1;31mRun the following command to install 'ipykernel' into the Python environment. \n",
      "\u001b[1;31mCommand: 'c:/Users/raksh/AppData/Local/Microsoft/WindowsApps/python3.10.exe -m pip install ipykernel -U --user --force-reinstall'"
     ]
    }
   ],
   "source": []
  }
 ],
 "metadata": {
  "kernelspec": {
   "display_name": "Python 3",
   "language": "python",
   "name": "python3"
  },
  "language_info": {
   "codemirror_mode": {
    "name": "ipython",
    "version": 3
   },
   "file_extension": ".py",
   "mimetype": "text/x-python",
   "name": "python",
   "nbconvert_exporter": "python",
   "pygments_lexer": "ipython3",
   "version": "3.10.9 (tags/v3.10.9:1dd9be6, Dec  6 2022, 20:01:21) [MSC v.1934 64 bit (AMD64)]"
  },
  "vscode": {
   "interpreter": {
    "hash": "27d80d816bf123c8c6528c464b94fd52fe27bacb0ba5cdee312f2c8557fc10ce"
   }
  }
 },
 "nbformat": 4,
 "nbformat_minor": 5
}
