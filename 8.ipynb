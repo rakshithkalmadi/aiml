{
 "cells": [
  {
   "cell_type": "code",
   "execution_count": 57,
   "id": "12ba8300",
   "metadata": {},
   "outputs": [
    {
     "name": "stdout",
     "output_type": "stream",
     "text": [
      "setosa\n",
      "versicolor\n",
      "virginica\n",
      "Orginal                   Test                      C/W                      \n",
      "1                         1                        Correct                  \n",
      "0                         0                        Correct                  \n",
      "1                         2                        Wrong                    \n",
      "2                         2                        Correct                  \n",
      "0                         0                        Correct                  \n",
      "0                         0                        Correct                  \n",
      "2                         2                        Correct                  \n",
      "0                         0                        Correct                  \n",
      "0                         0                        Correct                  \n",
      "1                         2                        Wrong                    \n",
      "1                         1                        Correct                  \n",
      "2                         2                        Correct                  \n",
      "1                         1                        Correct                  \n",
      "2                         2                        Correct                  \n",
      "0                         0                        Correct                  \n",
      "[[6 0 0]\n",
      " [0 3 2]\n",
      " [0 0 4]]\n",
      "0.8666666666666667\n"
     ]
    },
    {
     "name": "stderr",
     "output_type": "stream",
     "text": [
      "C:\\Users\\raksh\\anaconda3\\lib\\site-packages\\sklearn\\neighbors\\_classification.py:228: FutureWarning: Unlike other reduction functions (e.g. `skew`, `kurtosis`), the default behavior of `mode` typically preserves the axis it acts along. In SciPy 1.11.0, this behavior will change: the default value of `keepdims` will become False, the `axis` over which the statistic is taken will be eliminated, and the value None will no longer be accepted. Set `keepdims` to True or False to avoid this warning.\n",
      "  mode, _ = stats.mode(_y[neigh_ind, k], axis=1)\n",
      "C:\\Users\\raksh\\anaconda3\\lib\\site-packages\\sklearn\\neighbors\\_classification.py:228: FutureWarning: Unlike other reduction functions (e.g. `skew`, `kurtosis`), the default behavior of `mode` typically preserves the axis it acts along. In SciPy 1.11.0, this behavior will change: the default value of `keepdims` will become False, the `axis` over which the statistic is taken will be eliminated, and the value None will no longer be accepted. Set `keepdims` to True or False to avoid this warning.\n",
      "  mode, _ = stats.mode(_y[neigh_ind, k], axis=1)\n"
     ]
    }
   ],
   "source": [
    "from sklearn.model_selection import train_test_split\n",
    "from sklearn.neighbors import KNeighborsClassifier\n",
    "from sklearn import datasets\n",
    "from sklearn import metrics\n",
    "\n",
    "iris=datasets.load_iris()\n",
    "x_train,x_test,y_train,y_test=train_test_split(iris.data,iris.target,test_size=0.1)\n",
    "for i in range(len(iris.target_names)):\n",
    "    print(iris.target_names[i])\n",
    "classifier=KNeighborsClassifier(n_neighbors=1)\n",
    "classifier.fit(x_train,y_train)\n",
    "y_pred=classifier.predict(x_test)\n",
    "print(\"%-25s %-25s %-25s\" %('Orginal','Test','C/W'))\n",
    "for r in range(0,len(x_test)):\n",
    "    print(\"%-25s %-25s\" %(y_test[r],y_pred[r]),end=\"\")\n",
    "    if y_test[r]==y_pred[r]:\n",
    "        print(\"%-25s\" %('Correct'))\n",
    "    else:\n",
    "        print(\"%-25s\" %('Wrong'))\n",
    "print(metrics.confusion_matrix(y_test,y_pred))\n",
    "print(classifier.score(x_test,y_test))"
   ]
  },
  {
   "cell_type": "code",
   "execution_count": null,
   "id": "37a75eac",
   "metadata": {},
   "outputs": [],
   "source": []
  }
 ],
 "metadata": {
  "kernelspec": {
   "display_name": "Python 3 (ipykernel)",
   "language": "python",
   "name": "python3"
  },
  "language_info": {
   "codemirror_mode": {
    "name": "ipython",
    "version": 3
   },
   "file_extension": ".py",
   "mimetype": "text/x-python",
   "name": "python",
   "nbconvert_exporter": "python",
   "pygments_lexer": "ipython3",
   "version": "3.9.13"
  }
 },
 "nbformat": 4,
 "nbformat_minor": 5
}
